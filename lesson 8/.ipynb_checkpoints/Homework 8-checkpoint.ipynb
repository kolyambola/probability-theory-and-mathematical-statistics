{
 "cells": [
  {
   "cell_type": "markdown",
   "id": "31526212",
   "metadata": {},
   "source": [
    "Провести дисперсионный анализ для определения того, есть ли различия среднего роста среди взрослых футболистов, хоккеистов и штангистов. Даны значения роста в трех группах случайно выбранных спортсменов: Футболисты: 173, 175, 180, 178, 177, 185, 183, 182. Хоккеисты: 177, 179, 180, 188, 177, 172, 171, 184, 180. Штангисты: 172, 173, 169, 177, 166, 180, 178, 177, 172, 166, 170."
   ]
  },
  {
   "cell_type": "code",
   "execution_count": 1,
   "id": "79374689",
   "metadata": {},
   "outputs": [],
   "source": [
    "import numpy as np\n",
    "from scipy import stats"
   ]
  },
  {
   "cell_type": "code",
   "execution_count": 2,
   "id": "8ad79657",
   "metadata": {},
   "outputs": [
    {
     "data": {
      "text/plain": [
       "array([173, 175, 180, 178, 177, 185, 183, 182])"
      ]
     },
     "execution_count": 2,
     "metadata": {},
     "output_type": "execute_result"
    }
   ],
   "source": [
    "football = np.array([173, 175, 180, 178, 177, 185, 183, 182])\n",
    "football"
   ]
  },
  {
   "cell_type": "code",
   "execution_count": 3,
   "id": "759e9062",
   "metadata": {},
   "outputs": [
    {
     "data": {
      "text/plain": [
       "array([177, 179, 180, 188, 177, 172, 171, 184, 180])"
      ]
     },
     "execution_count": 3,
     "metadata": {},
     "output_type": "execute_result"
    }
   ],
   "source": [
    "hockey = np.array([177, 179, 180, 188, 177, 172, 171, 184, 180])\n",
    "hockey"
   ]
  },
  {
   "cell_type": "code",
   "execution_count": 4,
   "id": "44b05dec",
   "metadata": {},
   "outputs": [
    {
     "data": {
      "text/plain": [
       "array([172, 173, 169, 177, 166, 180, 178, 177, 172, 166, 170])"
      ]
     },
     "execution_count": 4,
     "metadata": {},
     "output_type": "execute_result"
    }
   ],
   "source": [
    "weightlifter = np.array([172, 173, 169, 177, 166, 180, 178, 177, 172, 166, 170])\n",
    "weightlifter"
   ]
  },
  {
   "cell_type": "markdown",
   "id": "56541de9",
   "metadata": {},
   "source": [
    "Нулевая гипотеза: средний рост не зависит от выбранного вида спорта. H0: μ1 = μ2 = μ3.\n",
    "Альтернативная гипотеза: средний рост зависит от выбранного вида спорта. H1: μ1 ≠ μ2 ≠ μ3."
   ]
  },
  {
   "cell_type": "markdown",
   "id": "eb9c5eac",
   "metadata": {},
   "source": [
    "Так как на одну количественную переменную (рост) влияет один качественный показатель (вид спорта), то используем однофакторный дисперсионный анализ."
   ]
  },
  {
   "cell_type": "code",
   "execution_count": 5,
   "id": "a353f813",
   "metadata": {},
   "outputs": [
    {
     "data": {
      "text/plain": [
       "F_onewayResult(statistic=5.500053450812596, pvalue=0.010482206918698694)"
      ]
     },
     "execution_count": 5,
     "metadata": {},
     "output_type": "execute_result"
    }
   ],
   "source": [
    "stats.f_oneway(football, hockey, weightlifter)"
   ]
  },
  {
   "cell_type": "markdown",
   "id": "8876f6e3",
   "metadata": {},
   "source": [
    "p-value = 0,010482. На уровне статистической значимости alpha = 0,05 > p-value принимаем альтернативную гипотезу. Но на уровне статистической значимости alpha = 0,01 < p-value принимаем нулевую гипотезу."
   ]
  },
  {
   "cell_type": "code",
   "execution_count": null,
   "id": "3026c847",
   "metadata": {},
   "outputs": [],
   "source": []
  }
 ],
 "metadata": {
  "kernelspec": {
   "display_name": "Python 3 (ipykernel)",
   "language": "python",
   "name": "python3"
  },
  "language_info": {
   "codemirror_mode": {
    "name": "ipython",
    "version": 3
   },
   "file_extension": ".py",
   "mimetype": "text/x-python",
   "name": "python",
   "nbconvert_exporter": "python",
   "pygments_lexer": "ipython3",
   "version": "3.9.12"
  }
 },
 "nbformat": 4,
 "nbformat_minor": 5
}
