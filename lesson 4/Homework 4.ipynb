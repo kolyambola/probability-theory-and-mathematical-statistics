{
 "cells": [
  {
   "cell_type": "markdown",
   "id": "21d8b956",
   "metadata": {},
   "source": [
    "### Task 1"
   ]
  },
  {
   "cell_type": "markdown",
   "id": "c6e25076",
   "metadata": {},
   "source": [
    "Случайная непрерывная величина A имеет равномерное распределение на промежутке (200, 800].\n",
    "Найдите ее среднее значение и дисперсию."
   ]
  },
  {
   "cell_type": "markdown",
   "id": "bfa49dd6",
   "metadata": {},
   "source": [
    "Используем формулы для определения математического ожидания и дисперсии."
   ]
  },
  {
   "cell_type": "code",
   "execution_count": 6,
   "id": "37dcfcee",
   "metadata": {},
   "outputs": [
    {
     "name": "stdout",
     "output_type": "stream",
     "text": [
      "Среднее значение непрерывной величины А — 500.0\n"
     ]
    }
   ],
   "source": [
    "def math_expect(a, b):\n",
    "    m = (a + b) / 2\n",
    "    return m\n",
    "m_a = math_expect(200, 800)\n",
    "print(f'Среднее значение непрерывной величины А — {m_a}')"
   ]
  },
  {
   "cell_type": "code",
   "execution_count": 7,
   "id": "fa6f957c",
   "metadata": {},
   "outputs": [
    {
     "name": "stdout",
     "output_type": "stream",
     "text": [
      "Дисперсия непрерывной случайной величины A — 30000.0\n"
     ]
    }
   ],
   "source": [
    "def variance(a, b):\n",
    "    d = (b - a)**2 / 12\n",
    "    return d\n",
    "d_a = variance(200, 800)\n",
    "print(f'Дисперсия непрерывной случайной величины A — {d_a}')"
   ]
  },
  {
   "cell_type": "markdown",
   "id": "691be972",
   "metadata": {},
   "source": [
    "Ответ: среднее значение непрерывной величины А — 500; дисперсия непрерывной случайной величины A — 30000."
   ]
  },
  {
   "cell_type": "markdown",
   "id": "5914844b",
   "metadata": {},
   "source": [
    "### Task 2"
   ]
  },
  {
   "cell_type": "markdown",
   "id": "8b2e3883",
   "metadata": {},
   "source": [
    "О случайной непрерывной равномерно распределенной величине B известно, что ее дисперсия равна 0.2.\n",
    "Можно ли найти правую границу величины B и ее среднее значение зная, что левая граница равна 0.5?\n",
    "Если да, найдите ее."
   ]
  },
  {
   "cell_type": "markdown",
   "id": "bba00dd4",
   "metadata": {},
   "source": [
    "Зная величины дисперсии и левой границы, можно выразить из формулы дисперсии правую границу и вычислить её. Правая граница будет определяться по формуле: b = (корень квадратный из 12) * (корень квадратный из D) + a."
   ]
  },
  {
   "cell_type": "code",
   "execution_count": 14,
   "id": "8089e1d4",
   "metadata": {},
   "outputs": [
    {
     "name": "stdout",
     "output_type": "stream",
     "text": [
      "Правая граница непрерывной равномерно распределённой величины B — 2.049\n"
     ]
    }
   ],
   "source": [
    "d_b = 0.2\n",
    "a = 0.5\n",
    "b = (12 * d_b) ** 0.5 + a\n",
    "print(f'Правая граница непрерывной равномерно распределённой величины B — {b:.3f}')"
   ]
  },
  {
   "cell_type": "markdown",
   "id": "55886604",
   "metadata": {},
   "source": [
    "Вычислим среднее значение случайной величины:"
   ]
  },
  {
   "cell_type": "code",
   "execution_count": 16,
   "id": "6fce112a",
   "metadata": {},
   "outputs": [
    {
     "name": "stdout",
     "output_type": "stream",
     "text": [
      "Среднее значение непрерывной величины — 1.275\n"
     ]
    }
   ],
   "source": [
    "m_b = math_expect(a, b)\n",
    "print(f'Среднее значение непрерывной величины — {m_b:.3f}')"
   ]
  },
  {
   "cell_type": "markdown",
   "id": "d63a4fa4",
   "metadata": {},
   "source": [
    "Ответ: правая граница непрерывной равномерно распределённой величины B — 2.049; среднее значение непрерывной величины — 1.275."
   ]
  },
  {
   "cell_type": "markdown",
   "id": "c826be89",
   "metadata": {},
   "source": [
    "### Task 3"
   ]
  },
  {
   "cell_type": "markdown",
   "id": "5fb13e89",
   "metadata": {},
   "source": [
    "Непрерывная случайная величина X распределена нормально и задана плотностью распределения\n",
    "f(x) = (1 / (4 * sqrt(2pi))) * exp((-(x+2)**2) / 32)\n",
    "Найдите:\n",
    "а). M(X)\n",
    "б). D(X)\n",
    "в). std(X) (среднее квадратичное отклонение)"
   ]
  },
  {
   "cell_type": "markdown",
   "id": "cc2a5371",
   "metadata": {},
   "source": [
    "Определим требуемые значения из общей формулы плотности распределения. M(x) = a = 2. D(x) = sigma^2 = 16. std(x) = sigma = 4."
   ]
  },
  {
   "cell_type": "markdown",
   "id": "816cb6b4",
   "metadata": {},
   "source": [
    "Ответ: а) M(x) = 2; б) D(x) = 16; в) stg(x) = 4. "
   ]
  },
  {
   "cell_type": "markdown",
   "id": "15579be2",
   "metadata": {},
   "source": [
    "### Task 4"
   ]
  },
  {
   "cell_type": "markdown",
   "id": "b0545fdc",
   "metadata": {},
   "source": [
    "Рост взрослого населения города X имеет нормальное распределение.\n",
    "Причем, средний рост равен 174 см, а среднее квадратичное отклонение равно 8 см.\n",
    "Какова вероятность того, что случайным образом выбранный взрослый человек имеет рост:\n",
    "а). больше 182 см\n",
    "б). больше 190 см\n",
    "в). от 166 см до 190 см\n",
    "г). от 166 см до 182 см\n",
    "д). от 158 см до 190 см\n",
    "е). не выше 150 см или не ниже 190 см\n",
    "ё). не выше 150 см или не ниже 198 см\n",
    "ж). ниже 166 см."
   ]
  },
  {
   "cell_type": "markdown",
   "id": "e3f15d71",
   "metadata": {},
   "source": [
    "Запишем формулу для определения Z-значения:"
   ]
  },
  {
   "cell_type": "code",
   "execution_count": 1,
   "id": "2b265b1b",
   "metadata": {},
   "outputs": [],
   "source": [
    "mu = 174\n",
    "sigma = 8\n",
    "def z(x):\n",
    "    z = (x - mu) / sigma\n",
    "    return z"
   ]
  },
  {
   "cell_type": "markdown",
   "id": "92a4034e",
   "metadata": {},
   "source": [
    "Для расчёта вероятности будем использовать Z-таблицу."
   ]
  },
  {
   "cell_type": "markdown",
   "id": "a270813c",
   "metadata": {},
   "source": [
    "а) Определяем Z-значение:"
   ]
  },
  {
   "cell_type": "code",
   "execution_count": 2,
   "id": "e7bdd47f",
   "metadata": {},
   "outputs": [
    {
     "name": "stdout",
     "output_type": "stream",
     "text": [
      "Z-значение — 1.0000\n"
     ]
    }
   ],
   "source": [
    "z_a = z(182)\n",
    "print(f'Z-значение — {z_a:.4f}')"
   ]
  },
  {
   "cell_type": "markdown",
   "id": "cbd98b4a",
   "metadata": {},
   "source": [
    "По Z-таблице определяем, что вероятность случайно выбранная величина меньше 182 см составляет 0,8413. Определим вероятность, что случайная величина больше 182 см:"
   ]
  },
  {
   "cell_type": "code",
   "execution_count": 8,
   "id": "b46581d0",
   "metadata": {},
   "outputs": [
    {
     "name": "stdout",
     "output_type": "stream",
     "text": [
      "Вероятность, что выбранный случайным образом человек имеет рост больше 182 см, составляет 0.1587\n"
     ]
    }
   ],
   "source": [
    "p = 0.8413\n",
    "p_a = 1 - p\n",
    "print(f'Вероятность, что выбранный случайным образом человек имеет рост больше 182 см, составляет {p_a:.4f}')"
   ]
  },
  {
   "cell_type": "markdown",
   "id": "91bcc491",
   "metadata": {},
   "source": [
    "б)"
   ]
  },
  {
   "cell_type": "code",
   "execution_count": 5,
   "id": "fa9ef884",
   "metadata": {},
   "outputs": [
    {
     "name": "stdout",
     "output_type": "stream",
     "text": [
      "Z-значение — 2.0000\n"
     ]
    }
   ],
   "source": [
    "z_b = z(190)\n",
    "print(f'Z-значение — {z_b:.4f}')"
   ]
  },
  {
   "cell_type": "code",
   "execution_count": 13,
   "id": "c8948ae3",
   "metadata": {},
   "outputs": [
    {
     "name": "stdout",
     "output_type": "stream",
     "text": [
      "Вероятность, что выбранный случайным образом человек имеет рост больше 190 см, составляет 0.0227\n"
     ]
    }
   ],
   "source": [
    "p = 0.9773\n",
    "p_b = 1 - p\n",
    "print(f'Вероятность, что выбранный случайным образом человек имеет рост больше 190 см, составляет {p_a:.4f}')"
   ]
  },
  {
   "cell_type": "markdown",
   "id": "a3e3e8d7",
   "metadata": {},
   "source": [
    "в) В данном случае вычтем из вероятности, что выбранная величина меньше 190 см, вероятность, что выбранная величина меньше 166 см."
   ]
  },
  {
   "cell_type": "code",
   "execution_count": 12,
   "id": "fa4555ac",
   "metadata": {},
   "outputs": [
    {
     "name": "stdout",
     "output_type": "stream",
     "text": [
      "Z-значение — -1.0000\n"
     ]
    }
   ],
   "source": [
    "z_166 = z(166)\n",
    "print(f'Z-значение — {z_166:.4f}')"
   ]
  },
  {
   "cell_type": "code",
   "execution_count": 15,
   "id": "5800f280",
   "metadata": {},
   "outputs": [
    {
     "name": "stdout",
     "output_type": "stream",
     "text": [
      "Вероятность, что выбранный случайным образом человек имеет рост от 166 до 190 см, составляет 0.8186\n"
     ]
    }
   ],
   "source": [
    "p_1 = 0.1587\n",
    "p_2 = 0.9773\n",
    "p_v = p_2 - p_1\n",
    "print(f'Вероятность, что выбранный случайным образом человек имеет рост от 166 до 190 см, составляет {p_v:.4f}')"
   ]
  },
  {
   "cell_type": "markdown",
   "id": "a244b480",
   "metadata": {},
   "source": [
    "г) "
   ]
  },
  {
   "cell_type": "code",
   "execution_count": 17,
   "id": "f261bcef",
   "metadata": {},
   "outputs": [
    {
     "name": "stdout",
     "output_type": "stream",
     "text": [
      "Вероятность, что выбранный случайным образом человек имеет рост от 166 до 182 см, составляет 0.6826\n"
     ]
    }
   ],
   "source": [
    "p_1 = 0.8413\n",
    "p_2 = 0.1587\n",
    "p_g = p_1 - p_2\n",
    "print(f'Вероятность, что выбранный случайным образом человек имеет рост от 166 до 182 см, составляет {p_g:.4f}')"
   ]
  },
  {
   "cell_type": "markdown",
   "id": "a564453c",
   "metadata": {},
   "source": [
    "д) "
   ]
  },
  {
   "cell_type": "code",
   "execution_count": 18,
   "id": "cba39729",
   "metadata": {},
   "outputs": [
    {
     "name": "stdout",
     "output_type": "stream",
     "text": [
      "Z-значение — -2.0000\n"
     ]
    }
   ],
   "source": [
    "z_158 = z(158)\n",
    "print(f'Z-значение — {z_158:.4f}')"
   ]
  },
  {
   "cell_type": "code",
   "execution_count": 19,
   "id": "cd4a8775",
   "metadata": {},
   "outputs": [
    {
     "name": "stdout",
     "output_type": "stream",
     "text": [
      "Вероятность, что выбранный случайным образом человек имеет рост от 158 до 190 см, составляет 0.9545\n"
     ]
    }
   ],
   "source": [
    "p_1 = 0.0228\n",
    "p_2 = 0.9773\n",
    "p_d = p_2 - p_1\n",
    "print(f'Вероятность, что выбранный случайным образом человек имеет рост от 158 до 190 см, составляет {p_d:.4f}')"
   ]
  },
  {
   "cell_type": "markdown",
   "id": "1e1a55a6",
   "metadata": {},
   "source": [
    "е)"
   ]
  },
  {
   "cell_type": "code",
   "execution_count": 20,
   "id": "bce2eb11",
   "metadata": {},
   "outputs": [
    {
     "name": "stdout",
     "output_type": "stream",
     "text": [
      "Z-значение — -3.0000\n"
     ]
    }
   ],
   "source": [
    "z_150 = z(150)\n",
    "print(f'Z-значение — {z_150:.4f}')"
   ]
  },
  {
   "cell_type": "code",
   "execution_count": 21,
   "id": "4e1e130a",
   "metadata": {},
   "outputs": [
    {
     "name": "stdout",
     "output_type": "stream",
     "text": [
      "Вероятность, что выбранный случайным образом человек имеет рост не выше 150 см или не ниже 190 см, составляет 0.0240\n"
     ]
    }
   ],
   "source": [
    "p_1 = 0.0013\n",
    "p_2 = 0.0227\n",
    "p_e = p_2 + p_1\n",
    "print(f'Вероятность, что выбранный случайным образом человек имеет рост не выше 150 см или не ниже 190 см, составляет {p_e:.4f}')"
   ]
  },
  {
   "cell_type": "markdown",
   "id": "e0b47ec1",
   "metadata": {},
   "source": [
    "ё)"
   ]
  },
  {
   "cell_type": "code",
   "execution_count": 22,
   "id": "ef03be15",
   "metadata": {},
   "outputs": [
    {
     "name": "stdout",
     "output_type": "stream",
     "text": [
      "Z-значение — 3.0000\n"
     ]
    }
   ],
   "source": [
    "z_198 = z(198)\n",
    "print(f'Z-значение — {z_198:.4f}')"
   ]
  },
  {
   "cell_type": "code",
   "execution_count": 23,
   "id": "7e629640",
   "metadata": {},
   "outputs": [
    {
     "name": "stdout",
     "output_type": "stream",
     "text": [
      "Вероятность, что выбранный случайным образом человек имеет рост не выше 150 см или не ниже 198 см, составляет 0.0026\n"
     ]
    }
   ],
   "source": [
    "p_1 = 0.0013\n",
    "p_2 = 1 - 0.9987\n",
    "p_ee = p_2 + p_1\n",
    "print(f'Вероятность, что выбранный случайным образом человек имеет рост не выше 150 см или не ниже 198 см, составляет {p_ee:.4f}')"
   ]
  },
  {
   "cell_type": "markdown",
   "id": "74b11a61",
   "metadata": {},
   "source": [
    "ж) "
   ]
  },
  {
   "cell_type": "code",
   "execution_count": 24,
   "id": "2bdac02f",
   "metadata": {},
   "outputs": [
    {
     "name": "stdout",
     "output_type": "stream",
     "text": [
      "Z-значение — -1.0000\n"
     ]
    }
   ],
   "source": [
    "z_166 = z(166)\n",
    "print(f'Z-значение — {z_166:.4f}')"
   ]
  },
  {
   "cell_type": "code",
   "execution_count": 26,
   "id": "a1274567",
   "metadata": {},
   "outputs": [
    {
     "name": "stdout",
     "output_type": "stream",
     "text": [
      "Вероятность, что выбранный случайным образом человек имеет рост ниже 166 см, составляет 0.1587\n"
     ]
    }
   ],
   "source": [
    "p_j = 0.1587\n",
    "print(f'Вероятность, что выбранный случайным образом человек имеет рост ниже 166 см, составляет {p_j:.4f}')"
   ]
  },
  {
   "cell_type": "markdown",
   "id": "b3386cb4",
   "metadata": {},
   "source": [
    "Ответ:<br> а) P(X > 182) = 0.1587;<br>\n",
    "б) P(X > 190) = 0.0227;<br> в) P(166 < X < 190) = 0.8186;<br> г) P(166 < X < 182) = 0.6826;<br> д) P(158 < X < 190) = 0.9545;<br> е) P(X <= 150 U X >= 190) = 0.0240;<br> ё) P(X <= 150 U X >= 182) = 0.0026;<br> ж) P(X < 166) = 0.1587."
   ]
  },
  {
   "cell_type": "markdown",
   "id": "07d7e0d2",
   "metadata": {},
   "source": [
    "### Task 5"
   ]
  },
  {
   "cell_type": "markdown",
   "id": "bfcbd904",
   "metadata": {},
   "source": [
    "На сколько сигм (средних квадратичных отклонений) отклоняется рост человека, равный 190 см, от\n",
    "математического ожидания роста в популяции, в которой M(X) = 178 см и D(X) = 25 кв.см?"
   ]
  },
  {
   "cell_type": "markdown",
   "id": "ea398f3b",
   "metadata": {},
   "source": [
    "Используем формулу расчёта Z-значения:"
   ]
  },
  {
   "cell_type": "code",
   "execution_count": 6,
   "id": "f94b419f",
   "metadata": {},
   "outputs": [],
   "source": [
    "mu = 178\n",
    "sigma = 25 ** 0.5\n",
    "def z(x):\n",
    "    z = (x - mu) / sigma\n",
    "    return z"
   ]
  },
  {
   "cell_type": "code",
   "execution_count": 7,
   "id": "c597fd4a",
   "metadata": {},
   "outputs": [
    {
     "name": "stdout",
     "output_type": "stream",
     "text": [
      "Рост человека отклоняется на 2.40 сигмы\n"
     ]
    }
   ],
   "source": [
    "z = z(190)\n",
    "print(f'Рост человека отклоняется на {z:.2f} сигмы')"
   ]
  },
  {
   "cell_type": "markdown",
   "id": "2bb374c9",
   "metadata": {},
   "source": [
    "Ответ: рост человека отличается на 2.4 сигмы."
   ]
  }
 ],
 "metadata": {
  "kernelspec": {
   "display_name": "Python 3 (ipykernel)",
   "language": "python",
   "name": "python3"
  },
  "language_info": {
   "codemirror_mode": {
    "name": "ipython",
    "version": 3
   },
   "file_extension": ".py",
   "mimetype": "text/x-python",
   "name": "python",
   "nbconvert_exporter": "python",
   "pygments_lexer": "ipython3",
   "version": "3.9.12"
  }
 },
 "nbformat": 4,
 "nbformat_minor": 5
}
