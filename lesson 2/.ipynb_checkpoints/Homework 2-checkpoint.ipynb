{
 "cells": [
  {
   "cell_type": "markdown",
   "id": "3f3b7875",
   "metadata": {},
   "source": [
    "### Task 1"
   ]
  },
  {
   "cell_type": "markdown",
   "id": "cf70ecf6",
   "metadata": {},
   "source": [
    "Вероятность того, что стрелок попадет в мишень, выстрелив один раз, равна 0.8. Стрелок выстрелил 100 раз. Найдите вероятность того, что стрелок попадет в цель ровно 85 раз."
   ]
  },
  {
   "cell_type": "markdown",
   "id": "3ef8588b",
   "metadata": {},
   "source": [
    "Для решения данной задачи используем формулу Бернулли. В данном случае n = 100, k = 85, p = 0.8, q = 1 - 0.8 = 0.2.  "
   ]
  },
  {
   "cell_type": "markdown",
   "id": "7ee6e165",
   "metadata": {},
   "source": [
    "Вычислим вероятность:"
   ]
  },
  {
   "cell_type": "code",
   "execution_count": 1,
   "id": "3c2dcc6c",
   "metadata": {},
   "outputs": [],
   "source": [
    "from math import factorial, exp"
   ]
  },
  {
   "cell_type": "code",
   "execution_count": 2,
   "id": "996637b2",
   "metadata": {},
   "outputs": [],
   "source": [
    "def bernulli(n, k, p):\n",
    "    c = factorial(n) / (factorial(k) * factorial(n - k))\n",
    "    b = c * (p ** k) * ((1 - p) ** (n - k))\n",
    "    return b"
   ]
  },
  {
   "cell_type": "code",
   "execution_count": 3,
   "id": "9e1e9aba",
   "metadata": {},
   "outputs": [
    {
     "name": "stdout",
     "output_type": "stream",
     "text": [
      "Вероятность попадания стрелком в цель 85 - 0.0481\n"
     ]
    }
   ],
   "source": [
    "p = bernulli(100, 85, 0.8)\n",
    "print(f'Вероятность попадания стрелком в цель 85 - {p:.4f}')"
   ]
  },
  {
   "cell_type": "markdown",
   "id": "e2012790",
   "metadata": {},
   "source": [
    "Ответ: вероятность, что стрелок попадёт в цель составляет 0.0481. "
   ]
  },
  {
   "cell_type": "markdown",
   "id": "82430191",
   "metadata": {},
   "source": [
    "### Task 2"
   ]
  },
  {
   "cell_type": "markdown",
   "id": "8959d68d",
   "metadata": {},
   "source": [
    "Вероятность того, что лампочка перегорит в течение первого дня эксплуатации, равна 0.0004. В жилом комплексе после ремонта в один день включили 5000 новых лампочек. 1) Какова вероятность, что ни одна из них не перегорит в первый день? 2) Какова вероятность, что перегорят ровно две?"
   ]
  },
  {
   "cell_type": "markdown",
   "id": "8be42731",
   "metadata": {},
   "source": [
    "Для решения данной задачи будем использовать формулу Пуассона, так как число испытаний велико, а вероятность наступления события мала."
   ]
  },
  {
   "cell_type": "markdown",
   "id": "1092bf35",
   "metadata": {},
   "source": [
    "Запишем функцию вычисления вероятности:"
   ]
  },
  {
   "cell_type": "code",
   "execution_count": 4,
   "id": "baccfa56",
   "metadata": {},
   "outputs": [],
   "source": [
    "def poisson(n, m, p):\n",
    "    l = p * n\n",
    "    pois = exp(-l) * (l ** m) / factorial(m)\n",
    "    return pois"
   ]
  },
  {
   "cell_type": "markdown",
   "id": "ec986ae4",
   "metadata": {},
   "source": [
    "1) m = 0, p = 0.0004, n = 5000"
   ]
  },
  {
   "cell_type": "markdown",
   "id": "c94aea4f",
   "metadata": {},
   "source": [
    "Вычислим вероятность:"
   ]
  },
  {
   "cell_type": "code",
   "execution_count": 5,
   "id": "6526fe32",
   "metadata": {},
   "outputs": [
    {
     "name": "stdout",
     "output_type": "stream",
     "text": [
      "Вероятность, что ни одна лампочка не перегорит в первый день - 0.1353\n"
     ]
    }
   ],
   "source": [
    "p = poisson(5000, 0, 0.0004)\n",
    "print(f'Вероятность, что ни одна лампочка не перегорит в первый день - {p:.4f}')"
   ]
  },
  {
   "cell_type": "markdown",
   "id": "91b468d5",
   "metadata": {},
   "source": [
    "2) m = 2, p = 0.0004, n = 5000"
   ]
  },
  {
   "cell_type": "code",
   "execution_count": 13,
   "id": "f1ae3d7e",
   "metadata": {},
   "outputs": [
    {
     "name": "stdout",
     "output_type": "stream",
     "text": [
      "Вероятность, что перегорят две лампочкии - 0.2707\n"
     ]
    }
   ],
   "source": [
    "p = poisson(5000, 2, 0.0004)\n",
    "print(f'Вероятность, что перегорят две лампочкии - {p:.4f}')"
   ]
  },
  {
   "cell_type": "markdown",
   "id": "fef8ff3e",
   "metadata": {},
   "source": [
    "Ответ: 1) Вероятность, что ни одна лампочка не перегорит в первый день - 0.1353; 2) вероятность, что перегорят две лампочкии - 0.2707"
   ]
  },
  {
   "cell_type": "markdown",
   "id": "838b1bc8",
   "metadata": {},
   "source": [
    "### Task 3"
   ]
  },
  {
   "cell_type": "markdown",
   "id": "f51664f3",
   "metadata": {},
   "source": [
    "Монету подбросили 144 раза. Какова вероятность, что орел выпадет ровно 70 раз?"
   ]
  },
  {
   "cell_type": "markdown",
   "id": "c6bd984b",
   "metadata": {},
   "source": [
    "Для решения данной задачи используем формулу Бернулли (n = 144, k = 70, p = q = 0.5)."
   ]
  },
  {
   "cell_type": "markdown",
   "id": "5c13b868",
   "metadata": {},
   "source": [
    "Определим вероятность:"
   ]
  },
  {
   "cell_type": "code",
   "execution_count": 15,
   "id": "37528eb1",
   "metadata": {},
   "outputs": [
    {
     "name": "stdout",
     "output_type": "stream",
     "text": [
      "Вероятность, что орел выпадет ровно 70 раз - 0.0628\n"
     ]
    }
   ],
   "source": [
    "p = bernulli(144, 70, 0.5)\n",
    "print(f'Вероятность, что орел выпадет ровно 70 раз - {p:.4f}')"
   ]
  },
  {
   "cell_type": "markdown",
   "id": "0ff27ad8",
   "metadata": {},
   "source": [
    "Ответ: Вероятность, что орел выпадет ровно 70 раз - 0.0628"
   ]
  },
  {
   "cell_type": "markdown",
   "id": "bbbd4395",
   "metadata": {},
   "source": [
    "### Task 4"
   ]
  },
  {
   "cell_type": "markdown",
   "id": "7eb068b9",
   "metadata": {},
   "source": [
    "В первом ящике находится 10 мячей, из которых 7 - белые. Во втором ящике - 11 мячей, из которых 9 белых. Из каждого ящика вытаскивают случайным образом по два мяча. 1) Какова вероятность того, что все мячи белые? 2) Какова вероятность того, что ровно два мяча белые? 3) Какова вероятность того, что хотя бы один мяч белый?"
   ]
  },
  {
   "cell_type": "markdown",
   "id": "3cdbd845",
   "metadata": {},
   "source": [
    "Для начала определим общее число исходов при вытаскивании мячей из каждой корзины."
   ]
  },
  {
   "cell_type": "code",
   "execution_count": 6,
   "id": "93b91f19",
   "metadata": {},
   "outputs": [],
   "source": [
    "def combinations(n, k):\n",
    "    c = factorial(n) / (factorial(k) * factorial(n - k))\n",
    "    return c"
   ]
  },
  {
   "cell_type": "markdown",
   "id": "a6a53792",
   "metadata": {},
   "source": [
    "Для первой корзины:"
   ]
  },
  {
   "cell_type": "code",
   "execution_count": 14,
   "id": "5bad03fd",
   "metadata": {},
   "outputs": [
    {
     "name": "stdout",
     "output_type": "stream",
     "text": [
      "45 сочетаний из 2 мячей\n"
     ]
    }
   ],
   "source": [
    "n1 = int(combinations(10, 2))\n",
    "print(f'{n1} сочетаний из 2 мячей')"
   ]
  },
  {
   "cell_type": "markdown",
   "id": "d7d26c94",
   "metadata": {},
   "source": [
    "Для второй корзины:"
   ]
  },
  {
   "cell_type": "code",
   "execution_count": 15,
   "id": "ca250790",
   "metadata": {},
   "outputs": [
    {
     "name": "stdout",
     "output_type": "stream",
     "text": [
      "55 сочетаний из 2 мячей\n"
     ]
    }
   ],
   "source": [
    "n2 = int(combinations(11, 2))\n",
    "print(f'{n2} сочетаний из 2 мячей')"
   ]
  },
  {
   "cell_type": "markdown",
   "id": "e67cf5e5",
   "metadata": {},
   "source": [
    "1) Для выполнения данного условия необходимо одновременное наступление двух независимых событий. То есть вероятности этих событий будут перемножаться. Событие А — извлечение из первой корзины двух белых мячей, событие В — извлечение из второй корзины двух белых мячей. Вероятность будем определять по классической формуле."
   ]
  },
  {
   "cell_type": "code",
   "execution_count": 37,
   "id": "a76a56e2",
   "metadata": {},
   "outputs": [
    {
     "name": "stdout",
     "output_type": "stream",
     "text": [
      "Благоприятное число исходов события А — 21\n"
     ]
    }
   ],
   "source": [
    "m1 = int(combinations(7, 2))\n",
    "print(f'Благоприятное число исходов события А — {m1}')"
   ]
  },
  {
   "cell_type": "code",
   "execution_count": 38,
   "id": "678ecead",
   "metadata": {},
   "outputs": [
    {
     "name": "stdout",
     "output_type": "stream",
     "text": [
      "Благоприятное число исходов события В — 36\n"
     ]
    }
   ],
   "source": [
    "m2 = int(combinations(9, 2))\n",
    "print(f'Благоприятное число исходов события В — {m2}')"
   ]
  },
  {
   "cell_type": "markdown",
   "id": "3eb6f2fc",
   "metadata": {},
   "source": [
    "Вероятность наступления события A:"
   ]
  },
  {
   "cell_type": "code",
   "execution_count": 34,
   "id": "f372f983",
   "metadata": {},
   "outputs": [
    {
     "name": "stdout",
     "output_type": "stream",
     "text": [
      "P(A) — 0.4667\n"
     ]
    }
   ],
   "source": [
    "p_a = m1 / n1\n",
    "print(f'P(A) = {p_a:.4f}')"
   ]
  },
  {
   "cell_type": "markdown",
   "id": "e4f266c1",
   "metadata": {},
   "source": [
    "Вероятность наступления события B:"
   ]
  },
  {
   "cell_type": "code",
   "execution_count": 35,
   "id": "f692f20b",
   "metadata": {},
   "outputs": [
    {
     "name": "stdout",
     "output_type": "stream",
     "text": [
      "P(B) — 0.6545\n"
     ]
    }
   ],
   "source": [
    "p_b = m2 / n2\n",
    "print(f'P(B) = {p_b:.4f}')"
   ]
  },
  {
   "cell_type": "markdown",
   "id": "ff4234f4",
   "metadata": {},
   "source": [
    "Верояность одновременного наступления событий A и B:"
   ]
  },
  {
   "cell_type": "code",
   "execution_count": 36,
   "id": "169a1407",
   "metadata": {},
   "outputs": [
    {
     "name": "stdout",
     "output_type": "stream",
     "text": [
      "P(AB) = 0.3055\n"
     ]
    }
   ],
   "source": [
    "p_ab = p_a * p_b\n",
    "print(f'P(AB) = {p_ab:.4f}')"
   ]
  },
  {
   "cell_type": "markdown",
   "id": "82100ed5",
   "metadata": {},
   "source": [
    "2) Для данного варианта существует 3 комбинации: а) из первой корзины извлекли два белых мяча, из второй — два не белых; б) из первой корзины извлекли два не белых мяча, из второй — два белых; в) из первой корзины извлекли один белый мяч, второй — не белый, из второй корзины так же."
   ]
  },
  {
   "cell_type": "markdown",
   "id": "de08c478",
   "metadata": {},
   "source": [
    "Определим благоприятное число исходов для каждого случая:"
   ]
  },
  {
   "cell_type": "code",
   "execution_count": 18,
   "id": "be3417ba",
   "metadata": {},
   "outputs": [
    {
     "name": "stdout",
     "output_type": "stream",
     "text": [
      "а) Число благоприятных исходов события A — 21\n",
      "   Число благоприятных исходов события В — 1\n",
      "\n",
      "б) Число благоприятных исходов события A — 3\n",
      "   Число благоприятных исходов события В — 36\n",
      "\n",
      "в) Число благоприятных исходов события A — 21\n",
      "   Число благоприятных исходов события В — 18\n"
     ]
    }
   ],
   "source": [
    "m_aa = int(combinations(7, 2))\n",
    "m_ba = int(combinations(2, 2))\n",
    "print(f'а) Число благоприятных исходов события A — {m_aa}')\n",
    "print(f'   Число благоприятных исходов события В — {m_ba}\\n')\n",
    "\n",
    "m_ab = int(combinations(3, 2))\n",
    "m_bb = int(combinations(9, 2))\n",
    "print(f'б) Число благоприятных исходов события A — {m_ab}')\n",
    "print(f'   Число благоприятных исходов события В — {m_bb}\\n')\n",
    "\n",
    "m_ac = int(combinations(7, 1) * combinations(3, 1))\n",
    "m_bc = int(combinations(9, 1) * combinations(2, 1))\n",
    "print(f'в) Число благоприятных исходов события A — {m_ac}')\n",
    "print(f'   Число благоприятных исходов события В — {m_bc}')"
   ]
  },
  {
   "cell_type": "markdown",
   "id": "3ac2a624",
   "metadata": {},
   "source": [
    "Вероятность, что сложится одна из этих комбинаций будет сумма вероятностей этих событий."
   ]
  },
  {
   "cell_type": "code",
   "execution_count": 19,
   "id": "7c4c23f9",
   "metadata": {},
   "outputs": [
    {
     "name": "stdout",
     "output_type": "stream",
     "text": [
      "Вероятность, что извлечённые из корзин ровно два мяча будут белыми — 0.2048\n"
     ]
    }
   ],
   "source": [
    "p = (m_aa/n1)*(m_ba/n2) + (m_ab/n1)*(m_bb/n2) + (m_ac/n1)*(m_bc/n2)\n",
    "print(f'Вероятность, что извлечённые из корзин ровно два мяча будут белыми — {p:.4f}')"
   ]
  },
  {
   "cell_type": "markdown",
   "id": "5debfcfb",
   "metadata": {},
   "source": [
    "3) Рассмотрим событие, когда не было извлечено ни одного белого мяча. Для наступления данного события нужно, чтобы из первой и второй корзин извлекли не белые мячи. Определим благоприятные исходы данного события:"
   ]
  },
  {
   "cell_type": "code",
   "execution_count": 23,
   "id": "72281201",
   "metadata": {},
   "outputs": [
    {
     "name": "stdout",
     "output_type": "stream",
     "text": [
      "Число благоприятных исходов для первой корзины — 3\n",
      "Число благоприятных исходов для второй корзины — 1\n"
     ]
    }
   ],
   "source": [
    "m1 = int(combinations(3, 2))\n",
    "m2 = int(combinations(2, 2))\n",
    "print(f'Число благоприятных исходов для первой корзины — {m1}')\n",
    "print(f'Число благоприятных исходов для второй корзины — {m2}')"
   ]
  },
  {
   "cell_type": "markdown",
   "id": "d11f2dab",
   "metadata": {},
   "source": [
    "Определим вероятность данного события:"
   ]
  },
  {
   "cell_type": "code",
   "execution_count": 24,
   "id": "d051230f",
   "metadata": {},
   "outputs": [
    {
     "name": "stdout",
     "output_type": "stream",
     "text": [
      "Вероятность, что не будет извлечено ни одного белого мяча — 0.0012\n"
     ]
    }
   ],
   "source": [
    "p_a = m1/n1 * m2/n2\n",
    "print(f'Вероятность, что не будет извлечено ни одного белого мяча — {p_a:.4f}')"
   ]
  },
  {
   "cell_type": "markdown",
   "id": "c5e2f1d8",
   "metadata": {},
   "source": [
    "Определим вероятность искомого события:"
   ]
  },
  {
   "cell_type": "code",
   "execution_count": 25,
   "id": "507e93cf",
   "metadata": {},
   "outputs": [
    {
     "name": "stdout",
     "output_type": "stream",
     "text": [
      "Вероятность извлечения хотя бы одного белого мяча — 0.9988\n"
     ]
    }
   ],
   "source": [
    "p_b = 1 - p_a\n",
    "print(f'Вероятность извлечения хотя бы одного белого мяча — {p_b:.4f}')"
   ]
  },
  {
   "cell_type": "markdown",
   "id": "e10b30b3",
   "metadata": {},
   "source": [
    "Ответ: 1) вероятность того, что все мячи белые — 0.3055; 2) вероятность того, что ровно два мяча белые — 0.2048; 3) вероятность того, что хотя бы один мяч белый — 0.9988."
   ]
  }
 ],
 "metadata": {
  "kernelspec": {
   "display_name": "Python 3 (ipykernel)",
   "language": "python",
   "name": "python3"
  },
  "language_info": {
   "codemirror_mode": {
    "name": "ipython",
    "version": 3
   },
   "file_extension": ".py",
   "mimetype": "text/x-python",
   "name": "python",
   "nbconvert_exporter": "python",
   "pygments_lexer": "ipython3",
   "version": "3.9.12"
  }
 },
 "nbformat": 4,
 "nbformat_minor": 5
}
