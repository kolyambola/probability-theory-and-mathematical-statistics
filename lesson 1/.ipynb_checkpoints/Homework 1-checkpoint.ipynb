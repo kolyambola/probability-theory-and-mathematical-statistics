{
 "cells": [
  {
   "cell_type": "markdown",
   "id": "6eebbe80",
   "metadata": {},
   "source": [
    "### Task 1"
   ]
  },
  {
   "cell_type": "markdown",
   "id": "abb1f259",
   "metadata": {},
   "source": [
    "Из колоды в 52 карты извлекаются случайным образом 4 карты. a) Найти вероятность того, что все карты – крести. б) Найти вероятность, что среди 4-х карт окажется хотя бы один туз."
   ]
  },
  {
   "cell_type": "markdown",
   "id": "53125ab0",
   "metadata": {},
   "source": [
    "а) Так как в колоде 4 масти, то число карт одной масти в колоде — 52/4 = 13. Будем использовать формулу подсчёта количества сочетаний. Из классической формулы вероятности — P(A) = m/n, m - число благоприятных исходов, n - общее число исходов. В данном случае благоприятное число исходов — извлечь 4 карты одной масти, а общее число исходов — извлечь 4 карты из всей колоды (52). Запишем формулу подсчёта количества сочетаний:"
   ]
  },
  {
   "cell_type": "code",
   "execution_count": 1,
   "id": "c75be43c",
   "metadata": {},
   "outputs": [],
   "source": [
    "from math import factorial"
   ]
  },
  {
   "cell_type": "code",
   "execution_count": 2,
   "id": "a8373268",
   "metadata": {},
   "outputs": [],
   "source": [
    "def combinations(n, k):\n",
    "    c = factorial(n) / (factorial(k) * factorial(n - k))\n",
    "    return c"
   ]
  },
  {
   "cell_type": "markdown",
   "id": "38a0508c",
   "metadata": {},
   "source": [
    "Вычислим m:"
   ]
  },
  {
   "cell_type": "code",
   "execution_count": 3,
   "id": "31f11ac3",
   "metadata": {},
   "outputs": [
    {
     "name": "stdout",
     "output_type": "stream",
     "text": [
      "715 сочетаний из 4 крести\n"
     ]
    }
   ],
   "source": [
    "m = int(combinations(13, 4))\n",
    "print(f'{m} сочетаний из 4 крести')"
   ]
  },
  {
   "cell_type": "markdown",
   "id": "98316618",
   "metadata": {},
   "source": [
    "Вычислим n:"
   ]
  },
  {
   "cell_type": "code",
   "execution_count": 4,
   "id": "28d111b5",
   "metadata": {},
   "outputs": [
    {
     "name": "stdout",
     "output_type": "stream",
     "text": [
      "270725 сочетаний из 4 карт\n"
     ]
    }
   ],
   "source": [
    "n = int(combinations(52, 4))\n",
    "print(f'{n} сочетаний из 4 карт')"
   ]
  },
  {
   "cell_type": "markdown",
   "id": "7ace9cee",
   "metadata": {},
   "source": [
    "Определим вероятность P:"
   ]
  },
  {
   "cell_type": "code",
   "execution_count": 5,
   "id": "4a2fe28b",
   "metadata": {},
   "outputs": [
    {
     "name": "stdout",
     "output_type": "stream",
     "text": [
      "Вероятность, что выбранные из колоды 4 карты крести — 0.0026\n"
     ]
    }
   ],
   "source": [
    "p = m / n\n",
    "print(f'Вероятность, что выбранные из колоды 4 карты крести — {p:.4f}')"
   ]
  },
  {
   "cell_type": "markdown",
   "id": "554f0358",
   "metadata": {},
   "source": [
    "б) В данном случае общее число исходов будет таким же, что и в задаче 1(а). А число благоприятных исходов будет складываться из 4 вариантов:"
   ]
  },
  {
   "cell_type": "markdown",
   "id": "a264f3dd",
   "metadata": {},
   "source": [
    "1) Из 4 карт 1 туз, из оставшихся 48 карт 3 не туза (общее количество сочетаний будет перемножаться, так как события \"1 туз\" и \"3 не туза\" — совместные);"
   ]
  },
  {
   "cell_type": "markdown",
   "id": "15f2f704",
   "metadata": {},
   "source": [
    "2) Из 4 карт 2 туза, из 48 карт 2 не туза;"
   ]
  },
  {
   "cell_type": "markdown",
   "id": "4c4ffff2",
   "metadata": {},
   "source": [
    "3) Из 4 карт 3 туза, из 48 карт 1 не туз;"
   ]
  },
  {
   "cell_type": "markdown",
   "id": "ded6ce3d",
   "metadata": {},
   "source": [
    "4) Из 4 карт 4 туза."
   ]
  },
  {
   "cell_type": "code",
   "execution_count": 13,
   "id": "799ea926",
   "metadata": {},
   "outputs": [
    {
     "name": "stdout",
     "output_type": "stream",
     "text": [
      "Число благоприятных исходов — 76145\n"
     ]
    }
   ],
   "source": [
    "m = int(sum([combinations(4, 1) * combinations(48, 3), combinations(4, 2) * combinations(48, 2), \n",
    "             combinations(4, 3) * combinations(48, 1), 1]))\n",
    "print(f'Число благоприятных исходов — {m}')"
   ]
  },
  {
   "cell_type": "markdown",
   "id": "a3aa53c0",
   "metadata": {},
   "source": [
    "Определим вероятность P:"
   ]
  },
  {
   "cell_type": "code",
   "execution_count": 15,
   "id": "c2bb507c",
   "metadata": {},
   "outputs": [
    {
     "name": "stdout",
     "output_type": "stream",
     "text": [
      "Вероятность, что среди выбранных из колоды 4 карт окажется туз — 0.2813\n"
     ]
    }
   ],
   "source": [
    "p = m / n\n",
    "print(f'Вероятность, что среди выбранных из колоды 4 карт окажется туз — {p:.4f}')"
   ]
  },
  {
   "cell_type": "markdown",
   "id": "4f6a0c34",
   "metadata": {},
   "source": [
    "Ответ: а) Вероятность, что выбранные из колоды 4 карты крести — 0.0026; \n",
    "б) Вероятность, что среди выбранных из колоды 4 карт окажется туз — 0.2813"
   ]
  },
  {
   "cell_type": "markdown",
   "id": "ebe230d6",
   "metadata": {},
   "source": [
    "### Task 2"
   ]
  },
  {
   "cell_type": "markdown",
   "id": "f8605abf",
   "metadata": {},
   "source": [
    "На входной двери подъезда установлен кодовый замок, содержащий десять кнопок с цифрами от 0 до 9. Код содержит три цифры, которые нужно нажать одновременно. Какова вероятность того, что человек, не знающий код, откроет дверь с первой попытки?"
   ]
  },
  {
   "cell_type": "markdown",
   "id": "f606e820",
   "metadata": {},
   "source": [
    "Так как кнопки нажимаются одновременно, то порядок не важен. Для определения вероятности общее количество исходов будет определяться как количество сочетаний 3 элементов из 10. Число благоприятных исходов m = 1 (замок открыт). "
   ]
  },
  {
   "cell_type": "code",
   "execution_count": 3,
   "id": "da771e54",
   "metadata": {},
   "outputs": [
    {
     "name": "stdout",
     "output_type": "stream",
     "text": [
      "Общее число исходов — 120\n"
     ]
    }
   ],
   "source": [
    "n = int(combinations(10, 3))\n",
    "print(f'Общее число исходов — {n}')"
   ]
  },
  {
   "cell_type": "markdown",
   "id": "815b0931",
   "metadata": {},
   "source": [
    "Определим вероятность P:"
   ]
  },
  {
   "cell_type": "code",
   "execution_count": 6,
   "id": "0ea8caed",
   "metadata": {},
   "outputs": [
    {
     "name": "stdout",
     "output_type": "stream",
     "text": [
      "Вероятность открытия замка с первого раза — 0.0083\n"
     ]
    }
   ],
   "source": [
    "p = 1 / n\n",
    "print(f'Вероятность открытия замка с первого раза — {p:.4f}')"
   ]
  },
  {
   "cell_type": "markdown",
   "id": "c1292b94",
   "metadata": {},
   "source": [
    "Ответ: вероятность открыть замок с первой попытки составляет 0,0083."
   ]
  },
  {
   "cell_type": "markdown",
   "id": "ec7d0f72",
   "metadata": {},
   "source": [
    "### Task 3"
   ]
  },
  {
   "cell_type": "markdown",
   "id": "9693b4be",
   "metadata": {},
   "source": [
    "В ящике имеется 15 деталей, из которых 9 окрашены. Рабочий случайным образом извлекает 3 детали. Какова вероятность того, что все извлеченные детали окрашены?"
   ]
  },
  {
   "cell_type": "markdown",
   "id": "0b321e70",
   "metadata": {},
   "source": [
    "Так как порядок извлечения деталей не важен, то для определения числа исходов будем использовать форумулу сочетаний. Благоприятное число исходов m будет определяться количеством сочетаний 3 деталей из 9. Общее число исходов n будет определяться количеством 3 деталей из 15. "
   ]
  },
  {
   "cell_type": "markdown",
   "id": "bd47f8ad",
   "metadata": {},
   "source": [
    "Вычислим m:"
   ]
  },
  {
   "cell_type": "code",
   "execution_count": 8,
   "id": "48c21580",
   "metadata": {},
   "outputs": [
    {
     "name": "stdout",
     "output_type": "stream",
     "text": [
      "Число благоприятных исходов — 84\n"
     ]
    }
   ],
   "source": [
    "m = int(combinations(9, 3))\n",
    "print(f'Число благоприятных исходов — {m}')"
   ]
  },
  {
   "cell_type": "markdown",
   "id": "71759998",
   "metadata": {},
   "source": [
    "Вычислим n:"
   ]
  },
  {
   "cell_type": "code",
   "execution_count": 9,
   "id": "1aec56df",
   "metadata": {},
   "outputs": [
    {
     "name": "stdout",
     "output_type": "stream",
     "text": [
      "Общее число исходов — 455\n"
     ]
    }
   ],
   "source": [
    "n = int(combinations(15, 3))\n",
    "print(f'Общее число исходов — {n}')"
   ]
  },
  {
   "cell_type": "markdown",
   "id": "d4175a4b",
   "metadata": {},
   "source": [
    "Определим вероятность P:"
   ]
  },
  {
   "cell_type": "code",
   "execution_count": 11,
   "id": "c1964a46",
   "metadata": {},
   "outputs": [
    {
     "name": "stdout",
     "output_type": "stream",
     "text": [
      "Вероятность извлечения трёх окрашенных шаров — 0.1846\n"
     ]
    }
   ],
   "source": [
    "p = m / n\n",
    "print(f'Вероятность извлечения трёх окрашенных шаров — {p:.4f}')"
   ]
  },
  {
   "cell_type": "markdown",
   "id": "a7a33cd2",
   "metadata": {},
   "source": [
    "Ответ: вероятность, что все извлеченные шары окрашены составляет — 0,1846"
   ]
  },
  {
   "cell_type": "markdown",
   "id": "a304940c",
   "metadata": {},
   "source": [
    "### Task 4"
   ]
  },
  {
   "cell_type": "markdown",
   "id": "a40d99fd",
   "metadata": {},
   "source": [
    "В лотерее 100 билетов. Из них 2 выигрышных. Какова вероятность того, что 2 приобретенных билета окажутся выигрышными?"
   ]
  },
  {
   "cell_type": "markdown",
   "id": "763b80fd",
   "metadata": {},
   "source": [
    "Число благоприятных исходов определяется сочетанием 2 выигрышных билетов из 2, т.е. m = 1. Общее число исходов n определяется количеством сочетаний 2 билетов из 100."
   ]
  },
  {
   "cell_type": "markdown",
   "id": "9c1dbb91",
   "metadata": {},
   "source": [
    "Определим n:"
   ]
  },
  {
   "cell_type": "code",
   "execution_count": 13,
   "id": "c803c95f",
   "metadata": {},
   "outputs": [
    {
     "name": "stdout",
     "output_type": "stream",
     "text": [
      "Общее число исходов — 4950\n"
     ]
    }
   ],
   "source": [
    "n = int(combinations(100, 2))\n",
    "print(f'Общее число исходов — {n}')"
   ]
  },
  {
   "cell_type": "markdown",
   "id": "5995f8d1",
   "metadata": {},
   "source": [
    "Вычислим вероятность P:"
   ]
  },
  {
   "cell_type": "code",
   "execution_count": 15,
   "id": "e37dc9e5",
   "metadata": {},
   "outputs": [
    {
     "name": "stdout",
     "output_type": "stream",
     "text": [
      "Вероятность приобретения двух выигрышных билетов — 0.0002\n"
     ]
    }
   ],
   "source": [
    "p = 1 / n\n",
    "print(f'Вероятность приобретения двух выигрышных билетов — {p:.4f}')"
   ]
  },
  {
   "cell_type": "markdown",
   "id": "6ed52469",
   "metadata": {},
   "source": [
    "Ответ: вероятность, что 2 приобретённых билета окажутся выигрышными составляет 0,0002."
   ]
  }
 ],
 "metadata": {
  "kernelspec": {
   "display_name": "Python 3 (ipykernel)",
   "language": "python",
   "name": "python3"
  },
  "language_info": {
   "codemirror_mode": {
    "name": "ipython",
    "version": 3
   },
   "file_extension": ".py",
   "mimetype": "text/x-python",
   "name": "python",
   "nbconvert_exporter": "python",
   "pygments_lexer": "ipython3",
   "version": "3.9.12"
  }
 },
 "nbformat": 4,
 "nbformat_minor": 5
}
