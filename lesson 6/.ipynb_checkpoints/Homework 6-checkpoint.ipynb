{
 "cells": [
  {
   "cell_type": "markdown",
   "id": "bf01cdf1",
   "metadata": {},
   "source": [
    "### Task 1"
   ]
  },
  {
   "cell_type": "markdown",
   "id": "7be36f9a",
   "metadata": {},
   "source": [
    "Даны значения величины заработной платы заемщиков банка (zp) и значения их поведенческого кредитного скоринга (ks):\n",
    "zp = [35, 45, 190, 200, 40, 70, 54, 150, 120, 110],\n",
    "ks = [401, 574, 874, 919, 459, 739, 653, 902, 746, 832].\n",
    "Найдите ковариацию этих двух величин с помощью элементарных действий, а затем с помощью функции cov из numpy\n",
    "Полученные значения должны быть равны.\n",
    "Найдите коэффициент корреляции Пирсона с помощью ковариации и среднеквадратичных отклонений двух признаков,\n",
    "а затем с использованием функций из библиотек numpy и pandas."
   ]
  },
  {
   "cell_type": "code",
   "execution_count": 1,
   "id": "a282c443",
   "metadata": {},
   "outputs": [],
   "source": [
    "import numpy as np\n",
    "import pandas as pd\n",
    "import matplotlib.pyplot as plt\n",
    "import scipy.stats as stats\n",
    "\n",
    "%matplotlib inline"
   ]
  },
  {
   "cell_type": "code",
   "execution_count": 2,
   "id": "30174525",
   "metadata": {},
   "outputs": [],
   "source": [
    "zp = np.array([35, 45, 190, 200, 40, 70, 54, 150, 120, 110])\n",
    "ks = np.array([401, 574, 874, 919, 459, 739, 653, 902, 746, 832])"
   ]
  },
  {
   "cell_type": "markdown",
   "id": "773a2b46",
   "metadata": {},
   "source": [
    "Проверим при помощи графика, есть ли зависимость между данными."
   ]
  },
  {
   "cell_type": "code",
   "execution_count": 3,
   "id": "f8c01220",
   "metadata": {
    "scrolled": true
   },
   "outputs": [
    {
     "data": {
      "image/png": "[encoded data removed]",
      "text/plain": [
       "<Figure size 432x288 with 1 Axes>"
      ]
     },
     "metadata": {
      "needs_background": "light"
     },
     "output_type": "display_data"
    }
   ],
   "source": [
    "plt.scatter(zp, ks)\n",
    "plt.xlabel('Заработная плата')\n",
    "plt.ylabel('Поведенческий кредитный скоринг')\n",
    "plt.show()"
   ]
  },
  {
   "cell_type": "markdown",
   "id": "dc8bfe22",
   "metadata": {},
   "source": [
    "Как видно из графика, между данными наблюдается линейная зависимость, т.к. большим значениям заработной платы соответсвуют большие размеры кредитного скоринга."
   ]
  },
  {
   "cell_type": "markdown",
   "id": "b7988fea",
   "metadata": {},
   "source": [
    "Определим ковариацию по формуле: cov(x, y) = M(xy) - M(x)*M(y)"
   ]
  },
  {
   "cell_type": "code",
   "execution_count": 4,
   "id": "dcce1d40",
   "metadata": {},
   "outputs": [],
   "source": [
    "def covar(x, y):\n",
    "    m_xy = sum(x * y) / len(x)\n",
    "    m_x = sum(x) / len(x)\n",
    "    m_y = sum(y) / len(y)\n",
    "    cov = m_xy - m_x*m_y\n",
    "    return cov"
   ]
  },
  {
   "cell_type": "code",
   "execution_count": 5,
   "id": "7c4fcc76",
   "metadata": {},
   "outputs": [
    {
     "name": "stdout",
     "output_type": "stream",
     "text": [
      "Ковариация заработной платы и поведенческого кредитного скоринга составляет 9157.840\n"
     ]
    }
   ],
   "source": [
    "cov_1 = covar(zp, ks)\n",
    "print(f'Ковариация заработной платы и поведенческого кредитного скоринга составляет {cov_1:.3f}')"
   ]
  },
  {
   "cell_type": "markdown",
   "id": "a5175e14",
   "metadata": {},
   "source": [
    "Теперь определим ковариацию при помощи функции cov из библиотеки numpy."
   ]
  },
  {
   "cell_type": "code",
   "execution_count": 6,
   "id": "5602f2d4",
   "metadata": {},
   "outputs": [
    {
     "name": "stdout",
     "output_type": "stream",
     "text": [
      "Ковариация заработной платы и поведенческого кредитного скоринга составляет 9157.840\n"
     ]
    }
   ],
   "source": [
    "cov_2 = np.cov(zp, ks, ddof=0)\n",
    "print(f'Ковариация заработной платы и поведенческого кредитного скоринга составляет {cov_2[0, 1]:.3f}')"
   ]
  },
  {
   "cell_type": "markdown",
   "id": "815f731a",
   "metadata": {},
   "source": [
    "Определим коэффициент корреляции Пирсона по формуле: r(x, y) = cov(x, y) / (sigma(x) * sigma(y))"
   ]
  },
  {
   "cell_type": "code",
   "execution_count": 7,
   "id": "c215ec38",
   "metadata": {},
   "outputs": [],
   "source": [
    "def sigma(x, condition=True):\n",
    "    mean_x = sum(x) / len(x)\n",
    "    square_subtraction = (x - mean_x) ** 2\n",
    "    if condition:\n",
    "        sigma_displaced = (sum(square_subtraction) / len(x)) ** 0.5\n",
    "        return sigma_displaced\n",
    "    else:\n",
    "        sigma_unbiased = (sum(square_subtraction) / (len(x) - 1)) ** 0.5\n",
    "        return sigma_unbiased"
   ]
  },
  {
   "cell_type": "code",
   "execution_count": 8,
   "id": "85efbdc3",
   "metadata": {},
   "outputs": [
    {
     "name": "stdout",
     "output_type": "stream",
     "text": [
      "Коэффициент корреляции Пирсона r = 0.8875\n"
     ]
    }
   ],
   "source": [
    "r_1 = covar(zp, ks) / (sigma(zp) * sigma(ks))\n",
    "print(f'Коэффициент корреляции Пирсона r = {r_1:.4f}')"
   ]
  },
  {
   "cell_type": "markdown",
   "id": "33194070",
   "metadata": {},
   "source": [
    "Теперь определим коэффициент корреляции Пирсона при помощи функции corcoef из библиотеки numpy."
   ]
  },
  {
   "cell_type": "code",
   "execution_count": 9,
   "id": "865b2845",
   "metadata": {},
   "outputs": [
    {
     "name": "stdout",
     "output_type": "stream",
     "text": [
      "Коэффициент корреляции Пирсона r = 0.8875\n"
     ]
    }
   ],
   "source": [
    "r_2 = np.corrcoef(zp, ks)\n",
    "print(f'Коэффициент корреляции Пирсона r = {r_2[0, 1]:.4f}')"
   ]
  },
  {
   "cell_type": "markdown",
   "id": "23587af9",
   "metadata": {},
   "source": [
    "Определим коэффициент корреляции Пирсона с помощью библиотеки pandas. Сначала создадим из данных датафрейм."
   ]
  },
  {
   "cell_type": "code",
   "execution_count": 10,
   "id": "75b215cd",
   "metadata": {},
   "outputs": [
    {
     "data": {
      "text/html": [
       "<div>\n",
       "<style scoped>\n",
       "    .dataframe tbody tr th:only-of-type {\n",
       "        vertical-align: middle;\n",
       "    }\n",
       "\n",
       "    .dataframe tbody tr th {\n",
       "        vertical-align: top;\n",
       "    }\n",
       "\n",
       "    .dataframe thead th {\n",
       "        text-align: right;\n",
       "    }\n",
       "</style>\n",
       "<table border=\"1\" class=\"dataframe\">\n",
       "  <thead>\n",
       "    <tr style=\"text-align: right;\">\n",
       "      <th></th>\n",
       "      <th>zp</th>\n",
       "      <th>ks</th>\n",
       "    </tr>\n",
       "  </thead>\n",
       "  <tbody>\n",
       "    <tr>\n",
       "      <th>0</th>\n",
       "      <td>35</td>\n",
       "      <td>401</td>\n",
       "    </tr>\n",
       "    <tr>\n",
       "      <th>1</th>\n",
       "      <td>45</td>\n",
       "      <td>574</td>\n",
       "    </tr>\n",
       "    <tr>\n",
       "      <th>2</th>\n",
       "      <td>190</td>\n",
       "      <td>874</td>\n",
       "    </tr>\n",
       "    <tr>\n",
       "      <th>3</th>\n",
       "      <td>200</td>\n",
       "      <td>919</td>\n",
       "    </tr>\n",
       "    <tr>\n",
       "      <th>4</th>\n",
       "      <td>40</td>\n",
       "      <td>459</td>\n",
       "    </tr>\n",
       "    <tr>\n",
       "      <th>5</th>\n",
       "      <td>70</td>\n",
       "      <td>739</td>\n",
       "    </tr>\n",
       "    <tr>\n",
       "      <th>6</th>\n",
       "      <td>54</td>\n",
       "      <td>653</td>\n",
       "    </tr>\n",
       "    <tr>\n",
       "      <th>7</th>\n",
       "      <td>150</td>\n",
       "      <td>902</td>\n",
       "    </tr>\n",
       "    <tr>\n",
       "      <th>8</th>\n",
       "      <td>120</td>\n",
       "      <td>746</td>\n",
       "    </tr>\n",
       "    <tr>\n",
       "      <th>9</th>\n",
       "      <td>110</td>\n",
       "      <td>832</td>\n",
       "    </tr>\n",
       "  </tbody>\n",
       "</table>\n",
       "</div>"
      ],
      "text/plain": [
       "    zp   ks\n",
       "0   35  401\n",
       "1   45  574\n",
       "2  190  874\n",
       "3  200  919\n",
       "4   40  459\n",
       "5   70  739\n",
       "6   54  653\n",
       "7  150  902\n",
       "8  120  746\n",
       "9  110  832"
      ]
     },
     "execution_count": 10,
     "metadata": {},
     "output_type": "execute_result"
    }
   ],
   "source": [
    "df = pd.DataFrame({'zp': zp, 'ks': ks})\n",
    "df"
   ]
  },
  {
   "cell_type": "markdown",
   "id": "1b94dfbc",
   "metadata": {},
   "source": [
    "Теперь используем функцию corr."
   ]
  },
  {
   "cell_type": "code",
   "execution_count": 11,
   "id": "162248b2",
   "metadata": {},
   "outputs": [
    {
     "name": "stdout",
     "output_type": "stream",
     "text": [
      "Коэффициент корреляции Пирсона r = 0.8875\n"
     ]
    }
   ],
   "source": [
    "r_3 = df.corr()\n",
    "print(f'Коэффициент корреляции Пирсона r = {r_3.iloc[0, 1]:.4f}')"
   ]
  },
  {
   "cell_type": "markdown",
   "id": "f8836c73",
   "metadata": {},
   "source": [
    "Коэффициент корреляции получился одинаковым при использовании различных методов. Наблюдаяемая линейная зависимость является сильной."
   ]
  },
  {
   "cell_type": "markdown",
   "id": "e055abf6",
   "metadata": {},
   "source": [
    "Ответ: ковариация исходных данных - 9157.840, коэффициент корреляции Пирсона - 0.8875."
   ]
  },
  {
   "cell_type": "markdown",
   "id": "607bc083",
   "metadata": {},
   "source": [
    "### Task 2"
   ]
  },
  {
   "cell_type": "markdown",
   "id": "0de6e578",
   "metadata": {},
   "source": [
    "Измерены значения IQ выборки студентов,\n",
    "обучающихся в местных технических вузах:\n",
    "131, 125, 115, 122, 131, 115, 107, 99, 125, 111.\n",
    "Известно, что в генеральной совокупности IQ распределен нормально.\n",
    "Найдите доверительный интервал для математического ожидания с надежностью 0.95."
   ]
  },
  {
   "cell_type": "markdown",
   "id": "c4c3f0ab",
   "metadata": {},
   "source": [
    "Так как в данной задаче ничего не известно о математическом ожидании и среднем квадратическом отклонении, то для определения доверительного интервала с надёжностью 0.95 будем использовать t-критерий. "
   ]
  },
  {
   "cell_type": "code",
   "execution_count": 12,
   "id": "3f02e510",
   "metadata": {},
   "outputs": [
    {
     "data": {
      "text/plain": [
       "array([131, 125, 115, 122, 131, 115, 107,  99, 125, 111])"
      ]
     },
     "execution_count": 12,
     "metadata": {},
     "output_type": "execute_result"
    }
   ],
   "source": [
    "x = np.array([131, 125, 115, 122, 131, 115, 107, 99, 125, 111])\n",
    "x"
   ]
  },
  {
   "cell_type": "markdown",
   "id": "539d3828",
   "metadata": {},
   "source": [
    "Определим среднее арифметическое."
   ]
  },
  {
   "cell_type": "code",
   "execution_count": 13,
   "id": "479a4d75",
   "metadata": {},
   "outputs": [
    {
     "name": "stdout",
     "output_type": "stream",
     "text": [
      "Среднее арифметическое данной выборки - 118.1\n"
     ]
    }
   ],
   "source": [
    "m = np.mean(x)\n",
    "print(f'Среднее арифметическое данной выборки - {m}')"
   ]
  },
  {
   "cell_type": "markdown",
   "id": "ead923ca",
   "metadata": {},
   "source": [
    "Определим несмещённое стандартное отклонение."
   ]
  },
  {
   "cell_type": "code",
   "execution_count": 14,
   "id": "3031dedd",
   "metadata": {},
   "outputs": [
    {
     "name": "stdout",
     "output_type": "stream",
     "text": [
      "Несмещённое стандартное отклонение - 10.546\n"
     ]
    }
   ],
   "source": [
    "variance_unbiased = np.std(x, ddof=1)\n",
    "print(f'Несмещённое стандартное отклонение - {variance_unbiased:.3f}')"
   ]
  },
  {
   "cell_type": "markdown",
   "id": "da7e0edc",
   "metadata": {},
   "source": [
    "Определим табличное значение t-критерия при помощи библиотеки scipy."
   ]
  },
  {
   "cell_type": "code",
   "execution_count": 15,
   "id": "75478f0e",
   "metadata": {},
   "outputs": [],
   "source": [
    "def t_criterion(len_array, reliability):\n",
    "    alpha = 1 - reliability\n",
    "    t = stats.t.ppf(1 - alpha/2, len_array - 1)\n",
    "    return t"
   ]
  },
  {
   "cell_type": "code",
   "execution_count": 16,
   "id": "d71133df",
   "metadata": {},
   "outputs": [
    {
     "name": "stdout",
     "output_type": "stream",
     "text": [
      "Табличное значение t-критерия для 95%-го доверительного интервала - 2.262\n"
     ]
    }
   ],
   "source": [
    "print(f'Табличное значение t-критерия для 95%-го доверительного интервала - {t_criterion(len(x), 0.95):.3f}')"
   ]
  },
  {
   "cell_type": "code",
   "execution_count": 17,
   "id": "fd9e4593",
   "metadata": {},
   "outputs": [],
   "source": [
    "def confidence_interval(array, reliability, condition=True):\n",
    "    if condition:\n",
    "        int_1 = np.mean(array) - t_criterion(len(array), reliability) * np.std(array, ddof=1) / (len(array) ** 0.5)\n",
    "        return int_1\n",
    "    else:\n",
    "        int_2 = np.mean(array) + t_criterion(len(array), reliability) * np.std(array, ddof=1) / (len(array) ** 0.5)\n",
    "        return int_2"
   ]
  },
  {
   "cell_type": "code",
   "execution_count": 18,
   "id": "b764ea67",
   "metadata": {},
   "outputs": [
    {
     "name": "stdout",
     "output_type": "stream",
     "text": [
      "95%-й доверительный интервал для истинного значения IQ: [110.556; 125.644]\n"
     ]
    }
   ],
   "source": [
    "print(f'95%-й доверительный интервал для истинного значения IQ: '\n",
    "      f'[{confidence_interval(x, 0.95):.3f}; {confidence_interval(x, 0.95, condition=False):.3f}]')"
   ]
  },
  {
   "cell_type": "markdown",
   "id": "9d21dad1",
   "metadata": {},
   "source": [
    "Ответ: 95%-й доверительный интервал для истинного значения IQ: [110.556; 125.644]."
   ]
  },
  {
   "cell_type": "markdown",
   "id": "6f5439d5",
   "metadata": {},
   "source": [
    "### Task 3"
   ]
  },
  {
   "cell_type": "markdown",
   "id": "cad58a69",
   "metadata": {},
   "source": [
    "Известно, что рост футболистов в сборной распределен нормально\n",
    "с дисперсией генеральной совокупности, равной 25 кв.см. Объем выборки равен 27,\n",
    "среднее выборочное составляет 174.2. Найдите доверительный интервал для математического\n",
    "ожидания с надежностью 0.95."
   ]
  },
  {
   "cell_type": "markdown",
   "id": "3cd5f1ea",
   "metadata": {},
   "source": [
    "Так как известна дисперсия, то для определения доверительного интервала будем использовать Z-критерий."
   ]
  },
  {
   "cell_type": "markdown",
   "id": "7fb0251b",
   "metadata": {},
   "source": [
    "Определяем табличное значение Z-критерия для 95%-го доверительного интервала. Z<sub>α/2</sub> = 1,96. По формуле определим доверительный интервал:"
   ]
  },
  {
   "cell_type": "code",
   "execution_count": 22,
   "id": "43d71d7a",
   "metadata": {},
   "outputs": [
    {
     "name": "stdout",
     "output_type": "stream",
     "text": [
      "Доверительный интервал для оценки математического ожидания: [172.314; 176.086]\n"
     ]
    }
   ],
   "source": [
    "x_mean = 174.2\n",
    "z_a2 = 1.96\n",
    "n = 27\n",
    "sigma = 25\n",
    "\n",
    "def confidence_interval_z(x, n, z, sigma):\n",
    "    left_part = x - z * sigma**0.5 / (n ** 0.5)\n",
    "    right_part = x + z * sigma**0.5 / (n ** 0.5)\n",
    "    return f'{left_part:.3f}; {right_part:.3f}'\n",
    "\n",
    "ci = confidence_interval_z(x_mean, n, z_a2, sigma)\n",
    "print(f'Доверительный интервал для оценки математического ожидания: [{ci}]')"
   ]
  },
  {
   "cell_type": "markdown",
   "id": "c5239353",
   "metadata": {},
   "source": [
    "Ответ: доверительный интервал для оценки математического ожидания: [172.314; 176.086]."
   ]
  },
  {
   "cell_type": "code",
   "execution_count": null,
   "id": "3398c728",
   "metadata": {},
   "outputs": [],
   "source": []
  }
 ],
 "metadata": {
  "kernelspec": {
   "display_name": "Python 3 (ipykernel)",
   "language": "python",
   "name": "python3"
  },
  "language_info": {
   "codemirror_mode": {
    "name": "ipython",
    "version": 3
   },
   "file_extension": ".py",
   "mimetype": "text/x-python",
   "name": "python",
   "nbconvert_exporter": "python",
   "pygments_lexer": "ipython3",
   "version": "3.9.12"
  }
 },
 "nbformat": 4,
 "nbformat_minor": 5
}
